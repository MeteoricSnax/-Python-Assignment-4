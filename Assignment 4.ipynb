{
 "cells": [
  {
   "cell_type": "markdown",
   "metadata": {},
   "source": [
    "### [link to original assignment description](https://github.com/datsoftlyngby/dat4sem2019spring-python-materials/blob/master/assignments/Assignment_4_Pandas.ipynb)\n",
    "\n",
    "# Assignment 4: Pandas\n",
    "##### This assignment is about data processing and plotting.\n",
    "\n",
    "##### How to hand in\n",
    "The assignment is expected to be published on GitHub, but the actual hand-in is on peergrade and should contain only a link to a MyBinder. The assignment should fit in a single Jupyter Notebook.\n",
    "\n",
    "Remember her to use the link provided when first registering your notebook with mybinder (not the url taken from your browsers adress field). See the notebook 12-Assignments for more information.\n",
    "\n",
    "## Use pandas dataframe with poverty data\n",
    "Use this source: https://data.worldbank.org/indicator/SI.POV.DDAY and extract the csv file in jupyter notebook. With the help of Pandas' DataFrame do the following"
   ]
  },
  {
   "cell_type": "markdown",
   "metadata": {},
   "source": [
    "1. Create a line graph showing the development in poverty over time in both Argentina, Ivory cost, USA. (be aware of the missing data in particular years)"
   ]
  },
  {
   "cell_type": "code",
   "execution_count": 154,
   "metadata": {
    "scrolled": true
   },
   "outputs": [],
   "source": [
    "import pandas as pd\n",
    "data = pd.read_csv('API_SI.POV.DDAY_DS2_en_csv_v2_10474275.csv', skiprows=4)"
   ]
  },
  {
   "cell_type": "code",
   "execution_count": 155,
   "metadata": {},
   "outputs": [
    {
     "data": {
      "text/plain": [
       "7      ARG\n",
       "39     CIV\n",
       "249    USA\n",
       "Name: Country Code, dtype: object"
      ]
     },
     "execution_count": 155,
     "metadata": {},
     "output_type": "execute_result"
    }
   ],
   "source": [
    "c_code_data = data[data['Country Name'].isin(['Argentina', 'Cote d\\'Ivoire', 'United States'])]['Country Code']\n",
    "c_code_data"
   ]
  },
  {
   "cell_type": "code",
   "execution_count": 156,
   "metadata": {
    "scrolled": true
   },
   "outputs": [
    {
     "data": {
      "text/plain": [
       "<matplotlib.axes._subplots.AxesSubplot at 0x20918488048>"
      ]
     },
     "execution_count": 156,
     "metadata": {},
     "output_type": "execute_result"
    },
    {
     "data": {
      "image/png": "[encoded data removed]",
      "text/plain": [
       "<Figure size 432x288 with 1 Axes>"
      ]
     },
     "metadata": {
      "needs_background": "light"
     },
     "output_type": "display_data"
    }
   ],
   "source": [
    "ts_data = data.iloc[c_code_data.index, 4:-1].T\n",
    "ts_data = ts_data.rename(columns=dict(c_code_data))\n",
    "ts_data.plot()"
   ]
  },
  {
   "cell_type": "markdown",
   "metadata": {},
   "source": [
    "2. Find the 10 countries with the highest poverty rate, and plot the rates in a bar chart"
   ]
  },
  {
   "cell_type": "code",
   "execution_count": 157,
   "metadata": {},
   "outputs": [
    {
     "data": {
      "text/plain": [
       "<BarContainer object of 10 artists>"
      ]
     },
     "execution_count": 157,
     "metadata": {},
     "output_type": "execute_result"
    },
    {
     "data": {
      "image/png": "[encoded data removed]",
      "text/plain": [
       "<Figure size 432x288 with 1 Axes>"
      ]
     },
     "metadata": {
      "needs_background": "light"
     },
     "output_type": "display_data"
    }
   ],
   "source": [
    "import matplotlib.pyplot as plt\n",
    "\n",
    "year = '2016'\n",
    "countries = data.sort_values('2016',ascending = False,na_position='last')['Country Name'].head(10)\n",
    "\n",
    "rate_df = data[year][data['Country Name'].isin(countries)]\n",
    "sorted_rate_df = rate_df.sort_values(ascending = False)\n",
    "\n",
    "plt.bar(countries, sorted_rate_df)"
   ]
  },
  {
   "cell_type": "markdown",
   "metadata": {},
   "source": [
    "3. Show the development of absolute poverty in all the central american countries. Hand in:\n",
    "\n",
    "    * A description of what graphical representation you think is best for this task.\n",
    "    * See this page for inspiration: https://scipy-lectures.org/intro/matplotlib/matplotlib.html.\n",
    "    * The actual graphical representation in a Jupyter Notebook.\n"
   ]
  },
  {
   "cell_type": "code",
   "execution_count": null,
   "metadata": {},
   "outputs": [],
   "source": []
  },
  {
   "cell_type": "markdown",
   "metadata": {},
   "source": [
    "4. From the worldbank api, find one more interesting question you would like to ask. Hand in:\n",
    "        A: A description of why that question is interesting\n",
    "        B: A visualisation of the question in your Jupyter Notebook\n",
    "      * See this page for inspiration: https://scipy-lectures.org/intro/matplotlib/matplotlib.html"
   ]
  },
  {
   "cell_type": "code",
   "execution_count": null,
   "metadata": {},
   "outputs": [],
   "source": []
  }
 ],
 "metadata": {
  "kernelspec": {
   "display_name": "Python 3",
   "language": "python",
   "name": "python3"
  },
  "language_info": {
   "codemirror_mode": {
    "name": "ipython",
    "version": 3
   },
   "file_extension": ".py",
   "mimetype": "text/x-python",
   "name": "python",
   "nbconvert_exporter": "python",
   "pygments_lexer": "ipython3",
   "version": "3.7.1"
  }
 },
 "nbformat": 4,
 "nbformat_minor": 2
}
